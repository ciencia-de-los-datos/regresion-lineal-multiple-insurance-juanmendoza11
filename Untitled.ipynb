{
 "cells": [
  {
   "cell_type": "code",
   "execution_count": 12,
   "id": "af6fdf7f",
   "metadata": {},
   "outputs": [
    {
     "name": "stdout",
     "output_type": "stream",
     "text": [
      "   age     sex     bmi  children smoker     region\n",
      "0   19  female  27.900         0    yes  southwest\n",
      "1   18    male  33.770         1     no  southeast\n",
      "2   28    male  33.000         3     no  southeast\n",
      "3   33    male  22.705         0     no  northwest\n",
      "4   32    male  28.880         0     no  northwest\n"
     ]
    }
   ],
   "source": [
    "import pandas as pd\n",
    "df = pd.read_csv('insurance.csv')\n",
    "y=df['charges']\n",
    "X=df\n",
    "X.drop('charges', inplace = True, axis=1)\n",
    "print(X.head())"
   ]
  },
  {
   "cell_type": "code",
   "execution_count": 16,
   "id": "5d6a77ad",
   "metadata": {},
   "outputs": [],
   "source": [
    "from sklearn.model_selection import train_test_split\n",
    "#X, y = pregunta_01()\n",
    "(X_train, X_test, y_train, y_test,) = train_test_split(\n",
    "X,\n",
    "y,\n",
    "test_size=300,\n",
    "random_state=12345,\n",
    ")"
   ]
  },
  {
   "cell_type": "code",
   "execution_count": null,
   "id": "9be60cbb",
   "metadata": {},
   "outputs": [],
   "source": [
    "from sklearn.linear_model import LinearRegression\n",
    "from sklearn.compose import make_column_transformer\n",
    "from sklearn.compose import make_column_selector\n",
    "from sklearn.feature_selection import SelectKBest, f_regression\n",
    "from sklearn.model_selection import GridSearchCV\n",
    "from sklearn.pipeline import Pipeline\n",
    "from sklearn.preprocessing  import OneHotEncoder\n",
    "from sklearn.metrics import mean_squared_error\n",
    "\n",
    "pipeline = Pipeline(\n",
    "steps=[\n",
    "            # Paso 1: Construya un column_transformer que aplica OneHotEncoder a las\n",
    "            # variables categóricas, y no aplica ninguna transformación al resto de\n",
    "            # las variables.\n",
    "(\n",
    "\"column_transfomer\",\n",
    "make_column_transformer(\n",
    "(\n",
    "OneHotEncoder(),\n",
    "make_column_selector(dtype_include=object),\n",
    "),\n",
    "remainder='passthrough',\n",
    "),\n",
    "),\n",
    "# Paso 2: Construya un selector de características que seleccione las K\n",
    "# características más importantes. Utilice la función f_regression.\n",
    "(\n",
    "\"selectKBest\",\n",
    "                SelectKBest(score_func=f_regression),\n",
    "            ),\n",
    "            # Paso 3: Construya un modelo de regresión lineal.\n",
    "            (\n",
    "                \"LR\",\n",
    "                LinearRegression(),\n",
    "            ),\n",
    "        ],\n",
    "    )"
   ]
  }
 ],
 "metadata": {
  "kernelspec": {
   "display_name": "Python 3 (ipykernel)",
   "language": "python",
   "name": "python3"
  },
  "language_info": {
   "codemirror_mode": {
    "name": "ipython",
    "version": 3
   },
   "file_extension": ".py",
   "mimetype": "text/x-python",
   "name": "python",
   "nbconvert_exporter": "python",
   "pygments_lexer": "ipython3",
   "version": "3.7.10"
  }
 },
 "nbformat": 4,
 "nbformat_minor": 5
}
